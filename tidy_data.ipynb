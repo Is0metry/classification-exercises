{
 "cells": [
  {
   "cell_type": "code",
   "execution_count": 3,
   "metadata": {},
   "outputs": [],
   "source": [
    "import pandas as pd\n",
    "import numpy as np\n",
    "from env import get_db_url"
   ]
  },
  {
   "cell_type": "code",
   "execution_count": 46,
   "metadata": {},
   "outputs": [
    {
     "data": {
      "text/plain": [
       "Student\n",
       "Sally    0.7625\n",
       "Jane     0.6875\n",
       "Billy    0.5250\n",
       "John     0.9125\n",
       "dtype: float64"
      ]
     },
     "execution_count": 46,
     "metadata": {},
     "output_type": "execute_result"
    }
   ],
   "source": [
    "query = '''SELECT * FROM attendance'''\n",
    "url = get_db_url('tidy_data')\n",
    "attendance_df = pd.read_sql(query,url)\n",
    "attendance_df = attendance_df.rename(columns={attendance_df.columns[0]:'Student'}).transpose()\n",
    "attendance_df.columns = attendance_df.iloc[0]\n",
    "attendance_df = attendance_df.drop('Student',axis=0)\n",
    "def get_attendance(x):\n",
    "    if x == 'P':\n",
    "        return 1\n",
    "    elif x == 'T':\n",
    "        return .9\n",
    "    elif x == 'H':\n",
    "        return .5\n",
    "    else:\n",
    "        return 0\n",
    "attendance_df = attendance_df.applymap(get_attendance)\n",
    "attendance_df.sum(axis='index') / attendance_df.shape[0]"
   ]
  },
  {
   "cell_type": "code",
   "execution_count": 52,
   "metadata": {},
   "outputs": [
    {
     "data": {
      "text/html": [
       "<div>\n",
       "<style scoped>\n",
       "    .dataframe tbody tr th:only-of-type {\n",
       "        vertical-align: middle;\n",
       "    }\n",
       "\n",
       "    .dataframe tbody tr th {\n",
       "        vertical-align: top;\n",
       "    }\n",
       "\n",
       "    .dataframe thead th {\n",
       "        text-align: right;\n",
       "    }\n",
       "</style>\n",
       "<table border=\"1\" class=\"dataframe\">\n",
       "  <thead>\n",
       "    <tr style=\"text-align: right;\">\n",
       "      <th>coffee_carafe</th>\n",
       "      <th>x</th>\n",
       "      <th>y</th>\n",
       "      <th>z</th>\n",
       "    </tr>\n",
       "    <tr>\n",
       "      <th>hour</th>\n",
       "      <th></th>\n",
       "      <th></th>\n",
       "      <th></th>\n",
       "    </tr>\n",
       "  </thead>\n",
       "  <tbody>\n",
       "    <tr>\n",
       "      <th>8</th>\n",
       "      <td>0.816164</td>\n",
       "      <td>0.189297</td>\n",
       "      <td>0.999264</td>\n",
       "    </tr>\n",
       "    <tr>\n",
       "      <th>9</th>\n",
       "      <td>0.451018</td>\n",
       "      <td>0.521502</td>\n",
       "      <td>0.915990</td>\n",
       "    </tr>\n",
       "    <tr>\n",
       "      <th>10</th>\n",
       "      <td>0.843279</td>\n",
       "      <td>0.023163</td>\n",
       "      <td>0.144928</td>\n",
       "    </tr>\n",
       "    <tr>\n",
       "      <th>11</th>\n",
       "      <td>0.335533</td>\n",
       "      <td>0.235529</td>\n",
       "      <td>0.311495</td>\n",
       "    </tr>\n",
       "    <tr>\n",
       "      <th>12</th>\n",
       "      <td>0.898291</td>\n",
       "      <td>0.017009</td>\n",
       "      <td>0.771947</td>\n",
       "    </tr>\n",
       "    <tr>\n",
       "      <th>13</th>\n",
       "      <td>0.310711</td>\n",
       "      <td>0.997464</td>\n",
       "      <td>0.398520</td>\n",
       "    </tr>\n",
       "    <tr>\n",
       "      <th>14</th>\n",
       "      <td>0.507288</td>\n",
       "      <td>0.058361</td>\n",
       "      <td>0.864464</td>\n",
       "    </tr>\n",
       "    <tr>\n",
       "      <th>15</th>\n",
       "      <td>0.215043</td>\n",
       "      <td>0.144644</td>\n",
       "      <td>0.436364</td>\n",
       "    </tr>\n",
       "    <tr>\n",
       "      <th>16</th>\n",
       "      <td>0.183891</td>\n",
       "      <td>0.544676</td>\n",
       "      <td>0.280621</td>\n",
       "    </tr>\n",
       "    <tr>\n",
       "      <th>17</th>\n",
       "      <td>0.391560</td>\n",
       "      <td>0.594126</td>\n",
       "      <td>0.436677</td>\n",
       "    </tr>\n",
       "  </tbody>\n",
       "</table>\n",
       "</div>"
      ],
      "text/plain": [
       "coffee_carafe         x         y         z\n",
       "hour                                       \n",
       "8              0.816164  0.189297  0.999264\n",
       "9              0.451018  0.521502  0.915990\n",
       "10             0.843279  0.023163  0.144928\n",
       "11             0.335533  0.235529  0.311495\n",
       "12             0.898291  0.017009  0.771947\n",
       "13             0.310711  0.997464  0.398520\n",
       "14             0.507288  0.058361  0.864464\n",
       "15             0.215043  0.144644  0.436364\n",
       "16             0.183891  0.544676  0.280621\n",
       "17             0.391560  0.594126  0.436677"
      ]
     },
     "execution_count": 52,
     "metadata": {},
     "output_type": "execute_result"
    }
   ],
   "source": [
    "coffee_df = pd.read_sql('SELECT * FROM coffee_levels',url)\n",
    "coffee_df = coffee_df.pivot_table(index='hour',columns='coffee_carafe',values='coffee_amount')\n",
    "coffee_df"
   ]
  },
  {
   "cell_type": "markdown",
   "metadata": {},
   "source": [
    "This is probably the best shape for this"
   ]
  },
  {
   "cell_type": "code",
   "execution_count": 64,
   "metadata": {},
   "outputs": [],
   "source": [
    "cakes = pd.read_sql('SELECT * FROM cake_recipes',url)\n",
    "cakes = cakes.rename(columns={'recipe:position':'recipe_position'})\n",
    "cakes_cols = cakes.recipe_position.str.split(':',expand=True)\n",
    "# cakes = pd.concat(cakes_cols,cakes)\n",
    "# cakes.head()"
   ]
  }
 ],
 "metadata": {
  "kernelspec": {
   "display_name": "Python 3.9.12 ('base')",
   "language": "python",
   "name": "python3"
  },
  "language_info": {
   "codemirror_mode": {
    "name": "ipython",
    "version": 3
   },
   "file_extension": ".py",
   "mimetype": "text/x-python",
   "name": "python",
   "nbconvert_exporter": "python",
   "pygments_lexer": "ipython3",
   "version": "3.9.12"
  },
  "orig_nbformat": 4,
  "vscode": {
   "interpreter": {
    "hash": "3067ead486e059ec00ffe7555bdb889e6e264a24dc711bf108106cc7baee8d5d"
   }
  }
 },
 "nbformat": 4,
 "nbformat_minor": 2
}
